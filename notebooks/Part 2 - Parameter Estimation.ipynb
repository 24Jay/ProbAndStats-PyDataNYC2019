{
 "cells": [
  {
   "cell_type": "markdown",
   "metadata": {},
   "source": [
    "# Parameter Estimation (and Hypothesis testing... which is just parameter estimation)\n",
    "\n",
    "In our `MagicCoin` example `n` was an example of a parameter. It's some important value for our understanding of how things work that we don't know. By using probability and data we can come up with ways to estimate what these parameters might be.\n",
    "\n",
    "In the rest of this tutorial we'll focus on an admittedly boring case of trying to estimate the rate that a product sells. The rate being the parameter we're trying to estimate.\n",
    "\n",
    "We'll be using a simulated product and customer data..."
   ]
  },
  {
   "cell_type": "code",
   "execution_count": 1,
   "metadata": {},
   "outputs": [],
   "source": [
    "from context import src\n",
    "from src import customer as cust\n",
    "from src import product as prod\n",
    "from src import experiment as exp\n",
    "\n",
    "\n",
    "import numpy as np\n",
    "import pandas as pd\n",
    "import seaborn as sns\n",
    "from scipy import stats"
   ]
  },
  {
   "cell_type": "markdown",
   "metadata": {},
   "source": [
    "Let's start by creating a new product. Our `Product` class is amazingly simple. It just takes a `name`, a `price` and a `quality`. Of course `quality` of a product is not so easy, but in this case we can just set it to whatever we want to simulate the average reviews are.\n",
    "\n",
    "We'll start with a toothbrush:"
   ]
  },
  {
   "cell_type": "code",
   "execution_count": 2,
   "metadata": {},
   "outputs": [],
   "source": [
    "toothbrush = prod.Product(name=\"alright brush\",\n",
    "                          price=4.99,\n",
    "                          quality=3.9)"
   ]
  },
  {
   "cell_type": "markdown",
   "metadata": {},
   "source": [
    "It's not the most amazing toothbrush, but let's try to sell it to somebody. Our `Customer` class can generate a random customer for us that has a certain price threshold and quality threshold that we don't know, and varies from customer to customer:"
   ]
  },
  {
   "cell_type": "code",
   "execution_count": 3,
   "metadata": {},
   "outputs": [],
   "source": [
    "person_a = cust.Customer.get_random()"
   ]
  },
  {
   "cell_type": "markdown",
   "metadata": {},
   "source": [
    "Next we can show our customer the product using the `will_purchase` method and we'll get a bool back telling us whether or not the decided to purchase that product:"
   ]
  },
  {
   "cell_type": "code",
   "execution_count": 4,
   "metadata": {},
   "outputs": [
    {
     "data": {
      "text/plain": [
       "False"
      ]
     },
     "execution_count": 4,
     "metadata": {},
     "output_type": "execute_result"
    }
   ],
   "source": [
    "person_a.will_purchase(toothbrush)"
   ]
  },
  {
   "cell_type": "markdown",
   "metadata": {},
   "source": [
    "Like the `MagicCoin` we don't really know what's going on inside of our customer. This singular observation doesn't tell us very much about how our coin behaves. The best way to hand this is to run some sort of `Experiment`!\n",
    "\n",
    "We can create an experiment using our `Experiment` class which will help us collect data on customers that we've shown our `toothbrush` too!"
   ]
  },
  {
   "cell_type": "code",
   "execution_count": 5,
   "metadata": {},
   "outputs": [],
   "source": [
    "toothbrush_test = exp.Experiment(toothbrush)"
   ]
  },
  {
   "cell_type": "markdown",
   "metadata": {},
   "source": [
    "Now we can use our experiment to show this `toothbrush` to a bunch of customers and see how many will purchase it!"
   ]
  },
  {
   "cell_type": "code",
   "execution_count": 6,
   "metadata": {},
   "outputs": [],
   "source": [
    "test_result = toothbrush_test.show_to_customers(20)"
   ]
  },
  {
   "cell_type": "markdown",
   "metadata": {},
   "source": [
    "Now we can see how our test went..."
   ]
  },
  {
   "cell_type": "code",
   "execution_count": 7,
   "metadata": {},
   "outputs": [
    {
     "data": {
      "text/plain": [
       "0      True\n",
       "1     False\n",
       "2      True\n",
       "3     False\n",
       "4     False\n",
       "5     False\n",
       "6      True\n",
       "7     False\n",
       "8     False\n",
       "9     False\n",
       "10    False\n",
       "11    False\n",
       "12    False\n",
       "13     True\n",
       "14    False\n",
       "15    False\n",
       "16    False\n",
       "17    False\n",
       "18    False\n",
       "19    False\n",
       "Name: purchased, dtype: bool"
      ]
     },
     "execution_count": 7,
     "metadata": {},
     "output_type": "execute_result"
    }
   ],
   "source": [
    "test_result.purchased"
   ]
  },
  {
   "cell_type": "markdown",
   "metadata": {},
   "source": [
    "With the `MagicCoin` we understood exactly how it worked so we didn't need a model to represent how we think the `ModelCoin` worked.\n",
    "\n",
    "Even though the interaction between the `Customer` and the `Product` is more complicated that simply a probability that a `Customer` will purchase a `Product` from our view the best way to model this is to make the simplifying assumption that each `Product` sells on at a particular rate.\n",
    "\n",
    "If you've worked in ecommerce or any similar conversion focused industry it might seem obvious that we want to estimate \"the rate that a product sells\", but it's good to remember that this is really an application of probability. If we knew everything about each customer and each product and how they interact we would know exactly how a product sells, there would be no rate involved at all!\n",
    "\n",
    "So if you wanted to estimate a rate at what this product sells, what would be your first estimate? Most people intuitively might estimate:"
   ]
  },
  {
   "cell_type": "code",
   "execution_count": 8,
   "metadata": {},
   "outputs": [
    {
     "name": "stdout",
     "output_type": "stream",
     "text": [
      "4 sold out of 20 total so our estimate is 0.2\n"
     ]
    }
   ],
   "source": [
    "sold = sum(test_result.purchased)\n",
    "total = len(test_result.purchased)\n",
    "rate_est = sold/total\n",
    "print(\"{0} sold out of {1} total so our estimate is {2}\".format(sold,total,rate_est))"
   ]
  },
  {
   "cell_type": "markdown",
   "metadata": {},
   "source": [
    "Making our `rate_est` as `sold/total` seems like a pretty good idea. But how can we show this is the best estimate, and are there other good estimate?\n",
    "\n",
    "For example what about `rate_est + 0.05` or  `rate_est - 0.05`? Are these good estimate? certainly they explain the data pretty well. How would we compare these estimates?\n",
    "\n",
    "One way we can do this is to use the Binomial distribution. The Binomial distribution will tell us exactly how likely data would be given this was the rate of a product selling. Let's look at the probability of the data for each of these alternate options:"
   ]
  },
  {
   "cell_type": "code",
   "execution_count": 9,
   "metadata": {},
   "outputs": [
    {
     "data": {
      "text/plain": [
       "0.21819940194609996"
      ]
     },
     "execution_count": 9,
     "metadata": {},
     "output_type": "execute_result"
    }
   ],
   "source": [
    "bin_est = stats.binom(n=total,p=rate_est)\n",
    "bin_est.pmf(sold)"
   ]
  },
  {
   "cell_type": "code",
   "execution_count": 10,
   "metadata": {},
   "outputs": [
    {
     "data": {
      "text/plain": [
       "0.18212167211195038"
      ]
     },
     "execution_count": 10,
     "metadata": {},
     "output_type": "execute_result"
    }
   ],
   "source": [
    "bin_est_bit_smaller = stats.binom(n=total,p=rate_est-0.05)\n",
    "bin_est_bit_smaller.pmf(sold)"
   ]
  },
  {
   "cell_type": "code",
   "execution_count": 11,
   "metadata": {},
   "outputs": [
    {
     "data": {
      "text/plain": [
       "0.1896854548658663"
      ]
     },
     "execution_count": 11,
     "metadata": {},
     "output_type": "execute_result"
    }
   ],
   "source": [
    "bin_est_bit_bigger = stats.binom(n=total,p=rate_est+0.05)\n",
    "bin_est_bit_bigger.pmf(sold)"
   ]
  },
  {
   "cell_type": "markdown",
   "metadata": {},
   "source": [
    "In both cases we can see that the slightly different estimates are a bit more surprised by the data that we observed. This means that they are not quite a good of an explaination of the data.. but that doesn't mean they're *wrong*.\n",
    "\n",
    "If you flipped a coin 3 times and got 1 head, you wouldn't assume the probability of heads is $\\frac{1}{3}$ the coin being fair is still pretty likely and you know that most coins tend to be fair so the belief that the probability of heads is $\\frac{1}{2}$\n",
    "\n",
    "Rather than just worry about which estimate for the rate is the best, it might be a good idea look at how strongly we believe in multi estimates. We could start by looking at esimates every 0.05 and apply the same logic using the Binomial Distribution we did before. We can use `numpy` to quickly do this in a vectorized way:"
   ]
  },
  {
   "cell_type": "code",
   "execution_count": 12,
   "metadata": {},
   "outputs": [
    {
     "data": {
      "text/plain": [
       "<matplotlib.axes._subplots.AxesSubplot at 0x118efdb38>"
      ]
     },
     "execution_count": 12,
     "metadata": {},
     "output_type": "execute_result"
    },
    {
     "data": {
      "image/png": "[encoded data removed]",
      "text/plain": [
       "<Figure size 432x288 with 1 Axes>"
      ]
     },
     "metadata": {
      "needs_background": "light"
     },
     "output_type": "display_data"
    }
   ],
   "source": [
    "est_dists = stats.binom(total,np.arange(0,1,0.1))\n",
    "sns.lineplot(x=np.arange(0,1,0.1),\n",
    "              y=est_dists.pmf(sold))"
   ]
  },
  {
   "cell_type": "markdown",
   "metadata": {},
   "source": [
    "Here we can see that if we look at each possibility between 0 and 1 incrementing by 0.05 we have some sort of distribution forming. \n",
    "\n",
    "We can see that this continues to smooth as we shrink our increment size:"
   ]
  },
  {
   "cell_type": "code",
   "execution_count": 13,
   "metadata": {},
   "outputs": [
    {
     "data": {
      "text/plain": [
       "<matplotlib.axes._subplots.AxesSubplot at 0x118f37390>"
      ]
     },
     "execution_count": 13,
     "metadata": {},
     "output_type": "execute_result"
    },
    {
     "data": {
      "image/png": "[encoded data removed]",
      "text/plain": [
       "<Figure size 432x288 with 1 Axes>"
      ]
     },
     "metadata": {
      "needs_background": "light"
     },
     "output_type": "display_data"
    }
   ],
   "source": [
    "est_dists = stats.binom(total,np.arange(0,1,0.05))\n",
    "sns.lineplot(x=np.arange(0,1,0.05),\n",
    "              y=est_dists.pmf(sold))"
   ]
  },
  {
   "cell_type": "code",
   "execution_count": 14,
   "metadata": {},
   "outputs": [
    {
     "data": {
      "text/plain": [
       "<matplotlib.axes._subplots.AxesSubplot at 0x11b1486d8>"
      ]
     },
     "execution_count": 14,
     "metadata": {},
     "output_type": "execute_result"
    },
    {
     "data": {
      "image/png": "[encoded data removed]",
      "text/plain": [
       "<Figure size 432x288 with 1 Axes>"
      ]
     },
     "metadata": {
      "needs_background": "light"
     },
     "output_type": "display_data"
    }
   ],
   "source": [
    "est_dists = stats.binom(total,np.arange(0,1,0.01))\n",
    "sns.lineplot(x=np.arange(0,1,0.01),\n",
    "              y=est_dists.pmf(sold))"
   ]
  },
  {
   "cell_type": "markdown",
   "metadata": {},
   "source": [
    "### The Beta Distribution\n",
    "\n",
    "The distribution we're converging on is a very useful distribution call the *Beta distribution*. It differs from our plot above in two ways: First it is a continous distribution meaning it accounts for the infinitely many possible rates for what we've observed. The second is that it makes it so that if we sum up over all those possible points (technically integrate) the result is exactly 1. This let's us talk about probabilities for different values. \n",
    "\n",
    "The Beta distribution takes two paramters $\\alpha$ the number of successes or `True` values we oberved and $\\beta$ the number failures or `False` values. Note that this I bit different than the Binomial where `n` = `alpha+beta`\n",
    "\n",
    "Here's a plot of what this distribution looks like for our cases of `alpha = sold` and `beta = total - sold`\n",
    "\n",
    "**note:** because the Beta distribution is continuous we'll use the `.pdf` method rather than the `.pmf` method."
   ]
  },
  {
   "cell_type": "code",
   "execution_count": 15,
   "metadata": {},
   "outputs": [
    {
     "data": {
      "text/plain": [
       "[Text(0, 0.5, 'density'), Text(0.5, 0, 'rate estimate')]"
      ]
     },
     "execution_count": 15,
     "metadata": {},
     "output_type": "execute_result"
    },
    {
     "data": {
      "image/png": "[encoded data removed]",
      "text/plain": [
       "<Figure size 432x288 with 1 Axes>"
      ]
     },
     "metadata": {
      "needs_background": "light"
     },
     "output_type": "display_data"
    }
   ],
   "source": [
    "alpha = sold\n",
    "beta = total - sold\n",
    "est_beta_dist = stats.beta(alpha,beta)\n",
    "xs = np.arange(0,1,0.01)\n",
    "sns.lineplot(x=xs,\n",
    "             y=est_beta_dist.pdf(xs)).set(xlabel='rate estimate', \n",
    "                                          ylabel='density')"
   ]
  },
  {
   "cell_type": "markdown",
   "metadata": {},
   "source": [
    "Now we have a plot that show the distribution of how strongly we believe in various possible rates for our `toothbrush` to sell to a custuomer.\n",
    "\n",
    "The power of having a distribution like this is that we use it to ask questions about our beliefs.\n",
    "\n",
    "For example: suppose the director of marketing came in an asked if you had a product she could feature on the company webiste. The catch is she want a product that will have a rate of *at least* 0.4.\n",
    "\n",
    "Looing at the distribution of our beliefs it's certainly possible that it could be at least 0.4, but how confindent are we?\n",
    "\n",
    "We can answer this question a few ways. One way would be to use calculus to integrate between 0.4 and 1.0. But plenty of people are a bit nervous about doing calculus, and it turns out that integration gets tricky no matter what, so what we can also do is simply sample from this distribution:"
   ]
  },
  {
   "cell_type": "code",
   "execution_count": 16,
   "metadata": {},
   "outputs": [],
   "source": [
    "n_samples = 10000\n",
    "rate_est_samples = np.random.beta(a=sold,b=(total-sold),size=n_samples)"
   ]
  },
  {
   "cell_type": "markdown",
   "metadata": {},
   "source": [
    "Here we have a vector of samples of our rate estimate and we can use them to answer questions like the directors:"
   ]
  },
  {
   "cell_type": "code",
   "execution_count": 17,
   "metadata": {},
   "outputs": [
    {
     "data": {
      "text/plain": [
       "0.0235"
      ]
     },
     "execution_count": 17,
     "metadata": {},
     "output_type": "execute_result"
    }
   ],
   "source": [
    "sum(rate_est_samples > 0.4)/n_samples"
   ]
  },
  {
   "cell_type": "markdown",
   "metadata": {},
   "source": [
    "Notice that if we compute the `mean` of these `rate_est_samples` get a result very similar to `sold/total`. "
   ]
  },
  {
   "cell_type": "code",
   "execution_count": 18,
   "metadata": {},
   "outputs": [
    {
     "data": {
      "text/plain": [
       "0.20043462897328226"
      ]
     },
     "execution_count": 18,
     "metadata": {},
     "output_type": "execute_result"
    }
   ],
   "source": [
    "rate_est_samples.mean()"
   ]
  },
  {
   "cell_type": "markdown",
   "metadata": {},
   "source": [
    "This is no coincidence. It turns out that the analytical *expectation* (or mean) of the Beta distribution is \n",
    "\n",
    "$$E[Beta(\\alpha,\\beta)] = \\frac{\\alpha}{\\alpha + \\beta}$$\n",
    "\n",
    "Which is the same as the successes over the total. If we sample more from out distribution the answers to the questions we ask of those samples are going to be closer and to the answer we would get if we perform the correct mathematical operations on our function. This is super important because it means we can use sampling as a subsitute for increasingly complicated integrals.\n",
    "\n",
    "So if you aren't super comfortable with the math, definitely feel free to just use sample... and even if you *are* comfortable with the math, pretty soon you'll need to rely on sampling techniques anyway so you should start playing around with sampling in your analysis"
   ]
  },
  {
   "cell_type": "markdown",
   "metadata": {},
   "source": [
    "## Hypothesis testing: comparing two products"
   ]
  },
  {
   "cell_type": "markdown",
   "metadata": {},
   "source": [
    "Hypothesis testing is the essential parts of statistics. It's fancy way of saying you have some hypothesis about the data and you want to test out how likely that hypothesis is. In fact, we've already done hypthesis testing: we asked abotu they hypothesis of each possible rate that could explain the data, and also looked at the hypothesis that that rate is greater than 0.4\n",
    "\n",
    "But typically when people think of hypothesis tests they think of comparing something things like:\n",
    "\n",
    "- do patients that recieve the treatment get healthy faster\n",
    "- is the new version of the website have more sign-ups than the old\n",
    "- does saying \"Florida\" make people think of being old and then walk slower than people who don't hear it.\n",
    "\n",
    "So to explore hypothesis testing we're going to have to have something to compare our `tooth brush` with, which is our `luxury_toothbrush`:"
   ]
  },
  {
   "cell_type": "code",
   "execution_count": 19,
   "metadata": {},
   "outputs": [],
   "source": [
    "luxury_toothbrush = prod.Product(name=\"luxury toothbrush\",\n",
    "                                 price=7.99,\n",
    "                                 quality=4.8)"
   ]
  },
  {
   "cell_type": "markdown",
   "metadata": {},
   "source": [
    "This is a much better toothbrush, but it also costs more, how well will it do? And more important, how well will it do compared to just our regular `toothbrush`? \n",
    "\n",
    "To look at this let's set up a new experiment, this time one where we can compare both toothbrushes to each other:"
   ]
  },
  {
   "cell_type": "code",
   "execution_count": 20,
   "metadata": {},
   "outputs": [],
   "source": [
    "toothbrush_ab_test = exp.Experiment(toothbrush,luxury_toothbrush)"
   ]
  },
  {
   "cell_type": "markdown",
   "metadata": {},
   "source": [
    "We're calling this an AB test because it's similar in nature to an AB test for websites. We're going to show each variant, the original `toothbrush` and the `luxury_toothbrush` to different groups of people and see which one does better."
   ]
  },
  {
   "cell_type": "code",
   "execution_count": 21,
   "metadata": {},
   "outputs": [
    {
     "data": {
      "text/html": [
       "<div>\n",
       "<style scoped>\n",
       "    .dataframe tbody tr th:only-of-type {\n",
       "        vertical-align: middle;\n",
       "    }\n",
       "\n",
       "    .dataframe tbody tr th {\n",
       "        vertical-align: top;\n",
       "    }\n",
       "\n",
       "    .dataframe thead th {\n",
       "        text-align: right;\n",
       "    }\n",
       "</style>\n",
       "<table border=\"1\" class=\"dataframe\">\n",
       "  <thead>\n",
       "    <tr style=\"text-align: right;\">\n",
       "      <th></th>\n",
       "      <th>a_purchased</th>\n",
       "      <th>a_customer</th>\n",
       "      <th>b_purchased</th>\n",
       "      <th>b_customer</th>\n",
       "    </tr>\n",
       "  </thead>\n",
       "  <tbody>\n",
       "    <tr>\n",
       "      <th>0</th>\n",
       "      <td>True</td>\n",
       "      <td>customer</td>\n",
       "      <td>False</td>\n",
       "      <td>customer</td>\n",
       "    </tr>\n",
       "    <tr>\n",
       "      <th>1</th>\n",
       "      <td>False</td>\n",
       "      <td>customer</td>\n",
       "      <td>False</td>\n",
       "      <td>customer</td>\n",
       "    </tr>\n",
       "    <tr>\n",
       "      <th>2</th>\n",
       "      <td>False</td>\n",
       "      <td>customer</td>\n",
       "      <td>False</td>\n",
       "      <td>customer</td>\n",
       "    </tr>\n",
       "    <tr>\n",
       "      <th>3</th>\n",
       "      <td>False</td>\n",
       "      <td>customer</td>\n",
       "      <td>False</td>\n",
       "      <td>customer</td>\n",
       "    </tr>\n",
       "    <tr>\n",
       "      <th>4</th>\n",
       "      <td>False</td>\n",
       "      <td>customer</td>\n",
       "      <td>False</td>\n",
       "      <td>customer</td>\n",
       "    </tr>\n",
       "    <tr>\n",
       "      <th>5</th>\n",
       "      <td>False</td>\n",
       "      <td>customer</td>\n",
       "      <td>False</td>\n",
       "      <td>customer</td>\n",
       "    </tr>\n",
       "    <tr>\n",
       "      <th>6</th>\n",
       "      <td>True</td>\n",
       "      <td>customer</td>\n",
       "      <td>False</td>\n",
       "      <td>customer</td>\n",
       "    </tr>\n",
       "    <tr>\n",
       "      <th>7</th>\n",
       "      <td>False</td>\n",
       "      <td>customer</td>\n",
       "      <td>False</td>\n",
       "      <td>customer</td>\n",
       "    </tr>\n",
       "    <tr>\n",
       "      <th>8</th>\n",
       "      <td>False</td>\n",
       "      <td>customer</td>\n",
       "      <td>False</td>\n",
       "      <td>customer</td>\n",
       "    </tr>\n",
       "    <tr>\n",
       "      <th>9</th>\n",
       "      <td>False</td>\n",
       "      <td>customer</td>\n",
       "      <td>False</td>\n",
       "      <td>customer</td>\n",
       "    </tr>\n",
       "    <tr>\n",
       "      <th>10</th>\n",
       "      <td>False</td>\n",
       "      <td>customer</td>\n",
       "      <td>False</td>\n",
       "      <td>customer</td>\n",
       "    </tr>\n",
       "    <tr>\n",
       "      <th>11</th>\n",
       "      <td>False</td>\n",
       "      <td>customer</td>\n",
       "      <td>False</td>\n",
       "      <td>customer</td>\n",
       "    </tr>\n",
       "    <tr>\n",
       "      <th>12</th>\n",
       "      <td>False</td>\n",
       "      <td>customer</td>\n",
       "      <td>False</td>\n",
       "      <td>customer</td>\n",
       "    </tr>\n",
       "    <tr>\n",
       "      <th>13</th>\n",
       "      <td>False</td>\n",
       "      <td>customer</td>\n",
       "      <td>False</td>\n",
       "      <td>customer</td>\n",
       "    </tr>\n",
       "    <tr>\n",
       "      <th>14</th>\n",
       "      <td>False</td>\n",
       "      <td>customer</td>\n",
       "      <td>False</td>\n",
       "      <td>customer</td>\n",
       "    </tr>\n",
       "    <tr>\n",
       "      <th>15</th>\n",
       "      <td>False</td>\n",
       "      <td>customer</td>\n",
       "      <td>True</td>\n",
       "      <td>customer</td>\n",
       "    </tr>\n",
       "    <tr>\n",
       "      <th>16</th>\n",
       "      <td>False</td>\n",
       "      <td>customer</td>\n",
       "      <td>False</td>\n",
       "      <td>customer</td>\n",
       "    </tr>\n",
       "    <tr>\n",
       "      <th>17</th>\n",
       "      <td>False</td>\n",
       "      <td>customer</td>\n",
       "      <td>False</td>\n",
       "      <td>customer</td>\n",
       "    </tr>\n",
       "    <tr>\n",
       "      <th>18</th>\n",
       "      <td>False</td>\n",
       "      <td>customer</td>\n",
       "      <td>False</td>\n",
       "      <td>customer</td>\n",
       "    </tr>\n",
       "    <tr>\n",
       "      <th>19</th>\n",
       "      <td>False</td>\n",
       "      <td>customer</td>\n",
       "      <td>False</td>\n",
       "      <td>customer</td>\n",
       "    </tr>\n",
       "    <tr>\n",
       "      <th>20</th>\n",
       "      <td>False</td>\n",
       "      <td>customer</td>\n",
       "      <td>True</td>\n",
       "      <td>customer</td>\n",
       "    </tr>\n",
       "    <tr>\n",
       "      <th>21</th>\n",
       "      <td>False</td>\n",
       "      <td>customer</td>\n",
       "      <td>False</td>\n",
       "      <td>customer</td>\n",
       "    </tr>\n",
       "    <tr>\n",
       "      <th>22</th>\n",
       "      <td>True</td>\n",
       "      <td>customer</td>\n",
       "      <td>True</td>\n",
       "      <td>customer</td>\n",
       "    </tr>\n",
       "    <tr>\n",
       "      <th>23</th>\n",
       "      <td>True</td>\n",
       "      <td>customer</td>\n",
       "      <td>False</td>\n",
       "      <td>customer</td>\n",
       "    </tr>\n",
       "    <tr>\n",
       "      <th>24</th>\n",
       "      <td>False</td>\n",
       "      <td>customer</td>\n",
       "      <td>False</td>\n",
       "      <td>customer</td>\n",
       "    </tr>\n",
       "    <tr>\n",
       "      <th>25</th>\n",
       "      <td>False</td>\n",
       "      <td>customer</td>\n",
       "      <td>False</td>\n",
       "      <td>customer</td>\n",
       "    </tr>\n",
       "    <tr>\n",
       "      <th>26</th>\n",
       "      <td>False</td>\n",
       "      <td>customer</td>\n",
       "      <td>False</td>\n",
       "      <td>customer</td>\n",
       "    </tr>\n",
       "    <tr>\n",
       "      <th>27</th>\n",
       "      <td>False</td>\n",
       "      <td>customer</td>\n",
       "      <td>True</td>\n",
       "      <td>customer</td>\n",
       "    </tr>\n",
       "    <tr>\n",
       "      <th>28</th>\n",
       "      <td>False</td>\n",
       "      <td>customer</td>\n",
       "      <td>False</td>\n",
       "      <td>customer</td>\n",
       "    </tr>\n",
       "    <tr>\n",
       "      <th>29</th>\n",
       "      <td>False</td>\n",
       "      <td>customer</td>\n",
       "      <td>True</td>\n",
       "      <td>customer</td>\n",
       "    </tr>\n",
       "  </tbody>\n",
       "</table>\n",
       "</div>"
      ],
      "text/plain": [
       "    a_purchased a_customer  b_purchased b_customer\n",
       "0          True   customer        False   customer\n",
       "1         False   customer        False   customer\n",
       "2         False   customer        False   customer\n",
       "3         False   customer        False   customer\n",
       "4         False   customer        False   customer\n",
       "5         False   customer        False   customer\n",
       "6          True   customer        False   customer\n",
       "7         False   customer        False   customer\n",
       "8         False   customer        False   customer\n",
       "9         False   customer        False   customer\n",
       "10        False   customer        False   customer\n",
       "11        False   customer        False   customer\n",
       "12        False   customer        False   customer\n",
       "13        False   customer        False   customer\n",
       "14        False   customer        False   customer\n",
       "15        False   customer         True   customer\n",
       "16        False   customer        False   customer\n",
       "17        False   customer        False   customer\n",
       "18        False   customer        False   customer\n",
       "19        False   customer        False   customer\n",
       "20        False   customer         True   customer\n",
       "21        False   customer        False   customer\n",
       "22         True   customer         True   customer\n",
       "23         True   customer        False   customer\n",
       "24        False   customer        False   customer\n",
       "25        False   customer        False   customer\n",
       "26        False   customer        False   customer\n",
       "27        False   customer         True   customer\n",
       "28        False   customer        False   customer\n",
       "29        False   customer         True   customer"
      ]
     },
     "execution_count": 21,
     "metadata": {},
     "output_type": "execute_result"
    }
   ],
   "source": [
    "n_ab_test_samples = 30\n",
    "ab_test_results = toothbrush_ab_test.show_to_customers(n_ab_test_samples)\n",
    "ab_test_results"
   ]
  },
  {
   "cell_type": "code",
   "execution_count": 22,
   "metadata": {},
   "outputs": [
    {
     "name": "stdout",
     "output_type": "stream",
     "text": [
      "A sold 4 (rate 0.13) and B sold 5  (rate 0.17)\n"
     ]
    }
   ],
   "source": [
    "a_sold = sum(ab_test_results.a_purchased)\n",
    "b_sold = sum(ab_test_results.b_purchased)\n",
    "print(\"A sold {} (rate {:.2f}) and B sold {}  (rate {:.2f})\".format(a_sold,\n",
    "                                                      float(a_sold/n_ab_test_samples),\n",
    "                                                      b_sold,\n",
    "                                                      float(b_sold/n_ab_test_samples)))"
   ]
  },
  {
   "cell_type": "markdown",
   "metadata": {},
   "source": [
    "So which toothbrush is beter? And if you think you're sure rerun this cell a few times and you're likely to get different results!\n",
    "\n",
    "To better understand what's happening here look at our parameter estimates for each tooth brush"
   ]
  },
  {
   "cell_type": "code",
   "execution_count": 23,
   "metadata": {},
   "outputs": [],
   "source": [
    "alpha_a = sum(ab_test_results.a_purchased)\n",
    "beta_a = n_ab_test_samples - alpha_a \n",
    "a_beta_dist = stats.beta(alpha_a,beta_a)\n",
    "\n",
    "alpha_b = sum(ab_test_results.b_purchased)\n",
    "beta_b = n_ab_test_samples - alpha_b \n",
    "b_beta_dist = stats.beta(alpha_b,beta_b)\n",
    "rates = np.arange(0,0.5,0.005)\n",
    "plot_df = pd.DataFrame({\n",
    "    'density':np.concatenate((a_beta_dist.pdf(rates),\n",
    "                              b_beta_dist.pdf(rates))),\n",
    "    'rate': np.concatenate((rates,rates)),\n",
    "    'group':['regular']*len(rates) + ['luxury']*len(rates)\n",
    "})"
   ]
  },
  {
   "cell_type": "code",
   "execution_count": 24,
   "metadata": {},
   "outputs": [
    {
     "data": {
      "text/plain": [
       "<matplotlib.axes._subplots.AxesSubplot at 0x11b28b978>"
      ]
     },
     "execution_count": 24,
     "metadata": {},
     "output_type": "execute_result"
    },
    {
     "data": {
      "image/png": "[encoded data removed]",
      "text/plain": [
       "<Figure size 432x288 with 1 Axes>"
      ]
     },
     "metadata": {
      "needs_background": "light"
     },
     "output_type": "display_data"
    }
   ],
   "source": [
    "sns.lineplot(x='rate',\n",
    "             y='density',\n",
    "             hue='group',\n",
    "             data=plot_df)"
   ]
  },
  {
   "cell_type": "markdown",
   "metadata": {},
   "source": [
    "We can se that we have two estimates now that might tell us very different things. If you look at your neighbors plot (if you're in the live workshop) you might notices a very different plot based on which customers looked at the times.\n",
    "\n",
    "this means that we don't have enough data to tell which distribution is different. What if we had more customers?\n",
    "\n",
    "Let's try 200 customers for each brush and see what we learn:"
   ]
  },
  {
   "cell_type": "code",
   "execution_count": 25,
   "metadata": {},
   "outputs": [],
   "source": [
    "n_ab_test_2_samples = 100\n",
    "ab_test_2 = toothbrush_ab_test.show_to_customers(n_ab_test_2_samples)"
   ]
  },
  {
   "cell_type": "code",
   "execution_count": 26,
   "metadata": {},
   "outputs": [
    {
     "data": {
      "text/plain": [
       "<matplotlib.axes._subplots.AxesSubplot at 0x11b344ef0>"
      ]
     },
     "execution_count": 26,
     "metadata": {},
     "output_type": "execute_result"
    },
    {
     "data": {
      "image/png": "[encoded data removed]",
      "text/plain": [
       "<Figure size 432x288 with 1 Axes>"
      ]
     },
     "metadata": {
      "needs_background": "light"
     },
     "output_type": "display_data"
    }
   ],
   "source": [
    "#notice that we're over writing the variables here so be careful of what order you run these cells in!\n",
    "alpha_a = sum(ab_test_2.a_purchased)\n",
    "beta_a = n_ab_test_2_samples - alpha_a \n",
    "a_beta_dist = stats.beta(alpha_a,beta_a)\n",
    "\n",
    "alpha_b = sum(ab_test_2.b_purchased)\n",
    "beta_b = n_ab_test_2_samples - alpha_b \n",
    "b_beta_dist = stats.beta(alpha_b,beta_b)\n",
    "rates = np.arange(0,0.5,0.001)\n",
    "plot_df = pd.DataFrame({\n",
    "    'density':np.concatenate((a_beta_dist.pdf(rates),\n",
    "                              b_beta_dist.pdf(rates))),\n",
    "    'rate': np.concatenate((rates,rates)),\n",
    "    'group':['regular']*len(rates) + ['luxury']*len(rates)\n",
    "})\n",
    "sns.lineplot(x='rate',\n",
    "             y='density',\n",
    "             hue='group',\n",
    "             data=plot_df)"
   ]
  },
  {
   "cell_type": "markdown",
   "metadata": {},
   "source": [
    "Now we're getting much better results! There's still a lot of uncertainity around exactly what rate each toothbrush sells, but we can clearly see that our estimates for `luxury_toothbrush` are much lower than they are for regular.\n",
    "\n",
    "But we might want to quantify this, and the best way to do that is with sampling:"
   ]
  },
  {
   "cell_type": "code",
   "execution_count": 27,
   "metadata": {},
   "outputs": [],
   "source": [
    "total_samples = 10000\n",
    "regular_samples = np.random.beta(a=alpha_a,b=beta_a,size=total_samples)\n",
    "luxury_samples = np.random.beta(a=alpha_b,b=beta_b,size=total_samples)"
   ]
  },
  {
   "cell_type": "markdown",
   "metadata": {},
   "source": [
    "This will tell the probability that the regular toothbrushes sell better than luxury:"
   ]
  },
  {
   "cell_type": "code",
   "execution_count": 28,
   "metadata": {},
   "outputs": [
    {
     "data": {
      "text/plain": [
       "0.9997"
      ]
     },
     "execution_count": 28,
     "metadata": {},
     "output_type": "execute_result"
    }
   ],
   "source": [
    "sum(regular_samples >luxury_samples)/total_samples"
   ]
  },
  {
   "cell_type": "markdown",
   "metadata": {},
   "source": [
    "As we can see we are almost certain that this is the case, even though we have a lot different beliefs about how well the different toothbrushes convert."
   ]
  },
  {
   "cell_type": "markdown",
   "metadata": {},
   "source": [
    "## Homework\n",
    "\n",
    "Here are some things you can experiment around with on your own to get a better sense of how hypothesis tests work!\n",
    "\n",
    "We can see that the `luxury_toothbrush` sells at a lower rate than the `toothbrush` but there are still many questions we can ask. How *much* better do we think `toothbrush` is than `luxury_toothbrush` in terms of how many times better it converts?\n",
    "\n",
    "In [this post on the Count Bayesie blog](https://www.countbayesie.com/blog/2015/4/25/bayesian-ab-testing) I go over ways that you can add a prior probability (and in [this post](https://www.countbayesie.com/blog/2015/2/18/hans-solo-and-bayesian-priors) talk a bit about what prior probabilities are). Experiment with using a reasonable prior probability for the different purchase rates and see how much sooner (or longer) it takes to conclude that `luxury_toothbrush` is inferior.\n",
    "\n",
    "\n",
    "`luxury_toothbrush` sells at a lower rate, but it also is more expensive. When we take into account the price difference with the sales difference is the plain old `toothbrush` the better product? or would we be better off selling less of the better tooth brush?"
   ]
  }
 ],
 "metadata": {
  "kernelspec": {
   "display_name": "Python 3",
   "language": "python",
   "name": "python3"
  },
  "language_info": {
   "codemirror_mode": {
    "name": "ipython",
    "version": 3
   },
   "file_extension": ".py",
   "mimetype": "text/x-python",
   "name": "python",
   "nbconvert_exporter": "python",
   "pygments_lexer": "ipython3",
   "version": "3.7.3"
  }
 },
 "nbformat": 4,
 "nbformat_minor": 2
}
