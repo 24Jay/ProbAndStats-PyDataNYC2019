{
 "cells": [
  {
   "cell_type": "markdown",
   "metadata": {},
   "source": [
    "# Probability and Statistics - Part 1 The Magic Coin\n",
    "\n",
    "In this tutorial we're going to take a look at Probability and Statistics. The overall goal is to cover a lot of ground fairly quickly so that you'll get a sense of how all the pieces work in practice. Where going to start with a simple example that will demonstart the key problems behind probability and statistics.\n",
    "\n",
    "For this first part we won't be importing any `random` library. The only tool we'll need to create randomness is:"
   ]
  },
  {
   "cell_type": "code",
   "execution_count": 1,
   "metadata": {},
   "outputs": [],
   "source": [
    "import time"
   ]
  },
  {
   "cell_type": "markdown",
   "metadata": {},
   "source": [
    "There is a common belief that **randomness** is **not a property of the world** but this is a misunderstanding. When we say that something is \"random\" we are really describing **the state of our own mind**. To explore this we'll start with a very interesting `class` called `MagicCoin`:"
   ]
  },
  {
   "cell_type": "code",
   "execution_count": 15,
   "metadata": {},
   "outputs": [],
   "source": [
    "class MagicCoin:\n",
    "    \n",
    "    def __init__(self,n):\n",
    "        self.n = n\n",
    "    \n",
    "    def flip(self) -> bool:\n",
    "        return(\n",
    "            int(time.time()) % self.n == 0\n",
    "        )"
   ]
  },
  {
   "cell_type": "markdown",
   "metadata": {},
   "source": [
    "This `MagicCoin` may not initially seem that *magic*: all it does is take an integer `n` and than uses that determine heads (`True`) or tails (`False`) based on the current time in seconds. \n",
    "\n",
    "Just to make sure this simple `flip` logic makes sense. If the time now is:"
   ]
  },
  {
   "cell_type": "code",
   "execution_count": 6,
   "metadata": {},
   "outputs": [
    {
     "data": {
      "text/plain": [
       "1571785405.5180979"
      ]
     },
     "execution_count": 6,
     "metadata": {},
     "output_type": "execute_result"
    }
   ],
   "source": [
    "time.time()"
   ]
  },
  {
   "cell_type": "markdown",
   "metadata": {},
   "source": [
    "then casting that to an `int` will give us:"
   ]
  },
  {
   "cell_type": "code",
   "execution_count": 7,
   "metadata": {},
   "outputs": [
    {
     "data": {
      "text/plain": [
       "1571785432"
      ]
     },
     "execution_count": 7,
     "metadata": {},
     "output_type": "execute_result"
    }
   ],
   "source": [
    "int(time.time())"
   ]
  },
  {
   "cell_type": "markdown",
   "metadata": {},
   "source": [
    "..oops! time changes so quickly! But you get the point, now we have an `int` and depending on `n` we get a result of our coin toss..."
   ]
  },
  {
   "cell_type": "code",
   "execution_count": 8,
   "metadata": {},
   "outputs": [
    {
     "data": {
      "text/plain": [
       "0"
      ]
     },
     "execution_count": 8,
     "metadata": {},
     "output_type": "execute_result"
    }
   ],
   "source": [
    "int(time.time()) % 2"
   ]
  },
  {
   "cell_type": "markdown",
   "metadata": {},
   "source": [
    "Okay let's just make a MagicCoin and start thinking about Probability!\n",
    "\n",
    "Here's our coin:"
   ]
  },
  {
   "cell_type": "code",
   "execution_count": 13,
   "metadata": {},
   "outputs": [],
   "source": [
    "mc = MagicCoin(2)"
   ]
  },
  {
   "cell_type": "markdown",
   "metadata": {},
   "source": [
    "Now this is where notebooks are really fun! Run the next line..."
   ]
  },
  {
   "cell_type": "code",
   "execution_count": 14,
   "metadata": {},
   "outputs": [],
   "source": [
    "result = mc.flip()"
   ]
  },
  {
   "cell_type": "markdown",
   "metadata": {},
   "source": [
    "Don't print it yet! What is the value of `result`? The obvious answer is that \"we don't know!!!\" but that's not really true. \n",
    "\n",
    "We know that the result could either be `True` or `False`. This is a big deal because it drastically limits the realm of values that `result` could have. An incredibly fancy way to describe this is to say that the value result is a *Bernoulli* distributed random variable. But all that means is that it's a variable and we don't know whether it's `True` (usually the value of 1) or `False` (typically 0).\n",
    "\n",
    "## Probability\n",
    "\n",
    "Since we know the result can either be `True` or `False` a good question to ask is:\n",
    "\n",
    "**\"how strongly do you believe that the value is** `True`**?\"**\n",
    "\n",
    "To answer this, we need to think about how our `MagicCoin` works and in particular our instance of `MagicCoin`, `mc`. Because we can see inside the `MagicCoin` we know everything about how it works, and because we know the *parameter* used to initialize `mc` we know *exactly* how `mc` works. We just don't know what time it was when we called `flip`.\n",
    "\n",
    "This tells us a lot about what it means for the coin toss to be random. Being **random** describes our **state of knowledge** about the coin. Now what we need is a way to quantify this believe.\n",
    "\n",
    "For this particular coin we know that if the second we called `mc.flip()` was even, then the value is `True`, and if it was odd it's `False`.\n",
    "\n",
    "\n",
    "### How much would you bet?\n",
    "\n",
    "One way that makes fairly intuitive sense to talk about believes is how much we would *bet* on them. For example if the person next to you turn and said \"I'll bet you \\$1 that the value is `False`\" how much would you offer up in return? My guess is that you would intuitively bet at most \\$1. \n",
    "\n",
    "The ratio of the amount you would bet verus the amount the person next to you would bet is called the **odds**.\n",
    "\n",
    "We can describe this as the odds of it being `True` is: $$\\text{odds(True)}=\\frac{1}{1}$$\n",
    "\n",
    "That is we believe that `result` being `True` is equally as possible as it is `False`.\n",
    "\n",
    "Odds express our beliefs in ratios. For the case of binary beliefs and odds of $\\frac{2}{1}$ would me we are two times as confident in the outcome being `True` and $\\frac{1}{2}$ \n",
    "\n",
    "\n",
    "### From Odds to Probabilities\n",
    "\n",
    "Odds are useful but they can get a bit unweidl....\n",
    "\n",
    ".... fill in\n",
    "\n",
    "In the end a probability is a values from `0.0` to `1.0` that represent our degree of belief in an outcome.\n",
    "\n",
    "Okay okay, now let's see the result of `result`!"
   ]
  },
  {
   "cell_type": "code",
   "execution_count": 18,
   "metadata": {},
   "outputs": [
    {
     "data": {
      "text/plain": [
       "False"
      ]
     },
     "execution_count": 18,
     "metadata": {},
     "output_type": "execute_result"
    }
   ],
   "source": [
    "result"
   ]
  },
  {
   "cell_type": "markdown",
   "metadata": {},
   "source": [
    "## Logic of Probability!\n",
    "\n",
    "Now the real power of a probability is that we can combine uncertainty with the same type of logic we do for `bool` types in programming! The rules a pretty similar with some nuance...\n",
    "\n",
    "**note:** this are slightly simplified rules that assume something called conditional independence. There is a slightly more naunced definition of some of these."
   ]
  },
  {
   "cell_type": "markdown",
   "metadata": {},
   "source": [
    "#### Logical NOT"
   ]
  },
  {
   "cell_type": "code",
   "execution_count": 25,
   "metadata": {},
   "outputs": [
    {
     "data": {
      "text/plain": [
       "False"
      ]
     },
     "execution_count": 25,
     "metadata": {},
     "output_type": "execute_result"
    }
   ],
   "source": [
    "not True"
   ]
  },
  {
   "cell_type": "code",
   "execution_count": 26,
   "metadata": {},
   "outputs": [
    {
     "data": {
      "text/plain": [
       "True"
      ]
     },
     "execution_count": 26,
     "metadata": {},
     "output_type": "execute_result"
    }
   ],
   "source": [
    "not False"
   ]
  },
  {
   "cell_type": "markdown",
   "metadata": {},
   "source": [
    "#### Probabilistic NOT\n",
    "\n",
    "$$\\text{not } P(A) = 1-P(A)$$"
   ]
  },
  {
   "cell_type": "code",
   "execution_count": null,
   "metadata": {},
   "outputs": [],
   "source": []
  },
  {
   "cell_type": "markdown",
   "metadata": {},
   "source": [
    "#### Logicial AND"
   ]
  },
  {
   "cell_type": "code",
   "execution_count": 19,
   "metadata": {},
   "outputs": [
    {
     "data": {
      "text/plain": [
       "False"
      ]
     },
     "execution_count": 19,
     "metadata": {},
     "output_type": "execute_result"
    }
   ],
   "source": [
    "True and False"
   ]
  },
  {
   "cell_type": "code",
   "execution_count": 20,
   "metadata": {},
   "outputs": [
    {
     "data": {
      "text/plain": [
       "True"
      ]
     },
     "execution_count": 20,
     "metadata": {},
     "output_type": "execute_result"
    }
   ],
   "source": [
    "True and True"
   ]
  },
  {
   "cell_type": "code",
   "execution_count": 21,
   "metadata": {},
   "outputs": [
    {
     "data": {
      "text/plain": [
       "False"
      ]
     },
     "execution_count": 21,
     "metadata": {},
     "output_type": "execute_result"
    }
   ],
   "source": [
    "False and False"
   ]
  },
  {
   "cell_type": "markdown",
   "metadata": {},
   "source": [
    "#### Probabilitistic AND\n",
    "\n",
    "$$P(A \\text{ and } B) = P(A) \\cdot P(B) $$"
   ]
  },
  {
   "cell_type": "code",
   "execution_count": 22,
   "metadata": {},
   "outputs": [
    {
     "data": {
      "text/plain": [
       "1.0"
      ]
     },
     "execution_count": 22,
     "metadata": {},
     "output_type": "execute_result"
    }
   ],
   "source": [
    "1.0 * 1.0"
   ]
  },
  {
   "cell_type": "code",
   "execution_count": 23,
   "metadata": {},
   "outputs": [
    {
     "data": {
      "text/plain": [
       "0.25"
      ]
     },
     "execution_count": 23,
     "metadata": {},
     "output_type": "execute_result"
    }
   ],
   "source": [
    "0.5*0.5"
   ]
  },
  {
   "cell_type": "code",
   "execution_count": null,
   "metadata": {},
   "outputs": [],
   "source": []
  },
  {
   "cell_type": "code",
   "execution_count": null,
   "metadata": {},
   "outputs": [],
   "source": []
  },
  {
   "cell_type": "code",
   "execution_count": null,
   "metadata": {},
   "outputs": [],
   "source": []
  },
  {
   "cell_type": "markdown",
   "metadata": {},
   "source": [
    "### Logic is how we reason when we are *certain* about facts\n",
    "### Probability is how we reason when we are *uncertain* about the facts...\n",
    "\n",
    "## Probability is the Logic of Uncertainity"
   ]
  }
 ],
 "metadata": {
  "kernelspec": {
   "display_name": "Python 3",
   "language": "python",
   "name": "python3"
  },
  "language_info": {
   "codemirror_mode": {
    "name": "ipython",
    "version": 3
   },
   "file_extension": ".py",
   "mimetype": "text/x-python",
   "name": "python",
   "nbconvert_exporter": "python",
   "pygments_lexer": "ipython3",
   "version": "3.7.3"
  }
 },
 "nbformat": 4,
 "nbformat_minor": 2
}
