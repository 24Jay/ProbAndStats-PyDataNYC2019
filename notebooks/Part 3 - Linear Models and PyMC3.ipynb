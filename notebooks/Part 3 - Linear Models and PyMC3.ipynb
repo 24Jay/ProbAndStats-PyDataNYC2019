{
 "cells": [
  {
   "cell_type": "code",
   "execution_count": 1,
   "metadata": {},
   "outputs": [],
   "source": [
    "%matplotlib inline"
   ]
  },
  {
   "cell_type": "markdown",
   "metadata": {},
   "source": [
    "# Linear Models and PyMC3\n",
    "\n",
    "So far we have covered the tools we need for basic parameter estimation when we have a single unknown parameter. There is a lot you can do with just this information, but the real work horse of statistical modeling is linear models."
   ]
  },
  {
   "cell_type": "code",
   "execution_count": 2,
   "metadata": {},
   "outputs": [],
   "source": [
    "from context import src\n",
    "from src import customer as cust\n",
    "from src import product as prod\n",
    "from src import experiment as exp\n",
    "from src import messy_experiment as messy_exp\n",
    "\n",
    "import pymc3 as pm\n",
    "import arviz as az\n",
    "\n",
    "import numpy as np\n",
    "import pandas as pd\n",
    "import seaborn as sns\n",
    "from scipy import stats\n",
    "from scipy.special import expit as logistic"
   ]
  },
  {
   "cell_type": "markdown",
   "metadata": {},
   "source": [
    "## Revisiting the Toothbrushes as a linear model"
   ]
  },
  {
   "cell_type": "code",
   "execution_count": 3,
   "metadata": {},
   "outputs": [],
   "source": [
    "toothbrush = prod.Product(name=\"alright brush\",\n",
    "                          price=4.99,\n",
    "                          quality=3.9)\n",
    "\n",
    "luxury_toothbrush = prod.Product(name=\"luxury toothbrush\",\n",
    "                                 price=7.99,\n",
    "                                 quality=4.8)\n",
    "\n",
    "toothbrush_ab_test = exp.Experiment(toothbrush,luxury_toothbrush)\n",
    "n_samples = 100\n",
    "experiment_results = toothbrush_ab_test.show_to_customers(n_samples)"
   ]
  },
  {
   "cell_type": "code",
   "execution_count": 4,
   "metadata": {},
   "outputs": [],
   "source": [
    "purchased = np.concatenate((experiment_results.a_purchased.astype(int),\n",
    "                            experiment_results.b_purchased.astype(int)))\n",
    "is_luxury = np.concatenate((np.zeros(n_samples),\n",
    "                            np.ones(n_samples)))\n",
    "ab_test_data = pd.DataFrame({\n",
    "    'purchased' : purchased,\n",
    "    'is_luxury' : is_luxury\n",
    "})"
   ]
  },
  {
   "cell_type": "code",
   "execution_count": null,
   "metadata": {},
   "outputs": [
    {
     "name": "stderr",
     "output_type": "stream",
     "text": [
      "Auto-assigning NUTS sampler...\n",
      "Initializing NUTS using adapt_diag...\n"
     ]
    }
   ],
   "source": [
    "with pm.Model() as logistic_model:\n",
    "    pm.glm.GLM.from_formula('purchased ~ 1 + is_luxury',\n",
    "                            ab_test_data,\n",
    "                            family=pm.glm.families.Binomial())\n",
    "    ab_trace = pm.sample(1000, tune=1000, init='adapt_diag')"
   ]
  },
  {
   "cell_type": "code",
   "execution_count": null,
   "metadata": {},
   "outputs": [],
   "source": [
    "pm.traceplot(ab_trace)"
   ]
  },
  {
   "cell_type": "markdown",
   "metadata": {},
   "source": [
    "Discuss what this mean in the model..."
   ]
  },
  {
   "cell_type": "code",
   "execution_count": null,
   "metadata": {},
   "outputs": [],
   "source": [
    "lo_is_luxury = ab_trace.get_values('is_luxury')\n",
    "\n",
    "print(sum(lo_is_luxury > 0)/len(lo_is_luxury))"
   ]
  },
  {
   "cell_type": "code",
   "execution_count": null,
   "metadata": {},
   "outputs": [],
   "source": [
    "lo_regular = ab_trace.get_values('Intercept')"
   ]
  },
  {
   "cell_type": "code",
   "execution_count": null,
   "metadata": {},
   "outputs": [],
   "source": []
  },
  {
   "cell_type": "code",
   "execution_count": null,
   "metadata": {},
   "outputs": [],
   "source": [
    "sns.distplot(logistic(lo_regular),hist=False)\n",
    "sns.distplot(logistic(lo_is_luxury + lo_regular),hist=False)"
   ]
  },
  {
   "cell_type": "markdown",
   "metadata": {},
   "source": [
    "Compare this with just using our Beta distribution estimates..."
   ]
  },
  {
   "cell_type": "code",
   "execution_count": null,
   "metadata": {},
   "outputs": [],
   "source": [
    "alpha_a = sum(experiment_results.a_purchased)\n",
    "beta_a = n_samples - alpha_a \n",
    "a_beta_dist = stats.beta(alpha_a,beta_a)\n",
    "\n",
    "alpha_b = sum(experiment_results.b_purchased)\n",
    "beta_b = n_samples - alpha_b \n",
    "b_beta_dist = stats.beta(alpha_b,beta_b)\n",
    "rates = np.arange(0,0.3,0.001)\n",
    "plot_df = pd.DataFrame({\n",
    "    'density':np.concatenate((a_beta_dist.pdf(rates),\n",
    "                              b_beta_dist.pdf(rates))),\n",
    "    'rate': np.concatenate((rates,rates)),\n",
    "    'group':['regular']*len(rates) + ['luxury']*len(rates)\n",
    "})\n",
    "sns.lineplot(x='rate',\n",
    "             y='density',\n",
    "             hue='group',\n",
    "             data=plot_df)"
   ]
  },
  {
   "cell_type": "markdown",
   "metadata": {},
   "source": [
    "nearly the same result!\n",
    "\n",
    "but why would we care? \n",
    "\n",
    "Using a linear model gives us the same result, but also makes it much easier for us to extend our solution to more complicated issues."
   ]
  },
  {
   "cell_type": "markdown",
   "metadata": {},
   "source": [
    "## More complicated issues!"
   ]
  },
  {
   "cell_type": "markdown",
   "metadata": {},
   "source": [
    "Now let's suppose we have a situation where we have two other products that we want to sell:"
   ]
  },
  {
   "cell_type": "code",
   "execution_count": null,
   "metadata": {},
   "outputs": [],
   "source": [
    "very_nice_pencil = prod.Product(name=\"Very nice pencil\",\n",
    "                                price=4.99,\n",
    "                                quality=4.9)\n",
    "deluxe_pencil = prod.Product(name=\"Deluxe pencil\",\n",
    "                             price=4.25,\n",
    "                             quality=4.8)"
   ]
  },
  {
   "cell_type": "markdown",
   "metadata": {},
   "source": [
    "We're going to run another experiment testing this values, but in this case we'll simulate when we don't design our experiment quite right:"
   ]
  },
  {
   "cell_type": "code",
   "execution_count": null,
   "metadata": {},
   "outputs": [],
   "source": [
    "pencil_test = messy_exp.MessyExperiment(very_nice_pencil,\n",
    "                                        deluxe_pencil)"
   ]
  },
  {
   "cell_type": "markdown",
   "metadata": {},
   "source": [
    "We'll run this test for a bunch of people so we can get some pretty good results"
   ]
  },
  {
   "cell_type": "code",
   "execution_count": null,
   "metadata": {},
   "outputs": [],
   "source": [
    "n_samples = 2500\n",
    "test_results = pencil_test.show_to_customers(n_samples)"
   ]
  },
  {
   "cell_type": "code",
   "execution_count": null,
   "metadata": {},
   "outputs": [],
   "source": [
    "sum(test_results.a_purchased)/n_samples"
   ]
  },
  {
   "cell_type": "code",
   "execution_count": null,
   "metadata": {},
   "outputs": [],
   "source": [
    "sum(test_results.b_purchased)/n_samples"
   ]
  },
  {
   "cell_type": "code",
   "execution_count": null,
   "metadata": {},
   "outputs": [],
   "source": [
    "purchased = np.concatenate((test_results.a_purchased.astype(int),\n",
    "                            test_results.b_purchased.astype(int)))\n",
    "is_deluxe = np.concatenate((np.zeros(n_samples),\n",
    "                            np.ones(n_samples)))\n",
    "pencil_test_data = pd.DataFrame({\n",
    "    'purchased' : purchased,\n",
    "    'is_deluxe' : is_deluxe\n",
    "})\n",
    "\n",
    "with pm.Model() as pencil_test_model:\n",
    "    pm.glm.GLM.from_formula('purchased ~ 1 + is_deluxe',\n",
    "                            pencil_test_data,\n",
    "                            family=pm.glm.families.Binomial())\n",
    "    pencil_test_trace = pm.sample(1000, tune=1000, init='adapt_diag')"
   ]
  },
  {
   "cell_type": "code",
   "execution_count": null,
   "metadata": {},
   "outputs": [],
   "source": [
    "pm.traceplot(pencil_test_trace)"
   ]
  },
  {
   "cell_type": "code",
   "execution_count": null,
   "metadata": {},
   "outputs": [],
   "source": [
    "is_deluxe_samples = pencil_test_trace.get_values(\"is_deluxe\")\n",
    "sum(is_deluxe_samples < 0)/len(is_deluxe_samples)"
   ]
  },
  {
   "cell_type": "markdown",
   "metadata": {},
   "source": [
    "Both of these pencils sold at a pretty low rate, which isn't surprsiing because they're pretty expensive. What is surprising is that it look like the `deluxe_pencil` sold for a much lower rate than the `very_nice_pencil`, even though both products are pretty much the same.\n",
    "\n",
    "If we take a peak at our data we can get an idea of what's happening:"
   ]
  },
  {
   "cell_type": "code",
   "execution_count": null,
   "metadata": {},
   "outputs": [],
   "source": [
    "test_results.a_customer.head(10)"
   ]
  },
  {
   "cell_type": "code",
   "execution_count": null,
   "metadata": {},
   "outputs": [],
   "source": [
    "test_results.b_customer.head(10)"
   ]
  },
  {
   "cell_type": "markdown",
   "metadata": {},
   "source": [
    "There were students in these experiments! And if we look at the two experiment groups we can see that the count is different:"
   ]
  },
  {
   "cell_type": "code",
   "execution_count": null,
   "metadata": {},
   "outputs": [],
   "source": [
    "sum(test_results.a_customer == \"student\")"
   ]
  },
  {
   "cell_type": "code",
   "execution_count": null,
   "metadata": {},
   "outputs": [],
   "source": [
    "sum(test_results.b_customer == \"student\")"
   ]
  },
  {
   "cell_type": "markdown",
   "metadata": {},
   "source": [
    "The b group go exposed to much more students than the a group! Could this explain what happened? It's reasonable to assume that students might have a lower threshold for the price they are willing to purchase a pen for"
   ]
  },
  {
   "cell_type": "code",
   "execution_count": null,
   "metadata": {},
   "outputs": [],
   "source": [
    "pencil_test_data['is_student'] = np.concatenate(\n",
    "    (test_results.a_customer ==  \"student\",\n",
    "     test_results.b_customer == \"student\")).astype(int)"
   ]
  },
  {
   "cell_type": "code",
   "execution_count": null,
   "metadata": {},
   "outputs": [],
   "source": [
    "pencil_test_data[pencil_test_data.is_student == 1].purchased.sum()"
   ]
  },
  {
   "cell_type": "code",
   "execution_count": null,
   "metadata": {},
   "outputs": [],
   "source": [
    "with pm.Model() as pencil_test_student_model:\n",
    "    pm.glm.GLM.from_formula('purchased ~ 1 + is_deluxe + is_student',\n",
    "                            pencil_test_data,\n",
    "                            family=pm.glm.families.Binomial())\n",
    "    pencil_test_student_trace = pm.sample(1000, tune=1000, init='adapt_diag')"
   ]
  },
  {
   "cell_type": "code",
   "execution_count": null,
   "metadata": {},
   "outputs": [],
   "source": [
    "pm.traceplot(pencil_test_student_trace)"
   ]
  },
  {
   "cell_type": "code",
   "execution_count": null,
   "metadata": {},
   "outputs": [],
   "source": []
  }
 ],
 "metadata": {
  "kernelspec": {
   "display_name": "Python 3",
   "language": "python",
   "name": "python3"
  },
  "language_info": {
   "codemirror_mode": {
    "name": "ipython",
    "version": 3
   },
   "file_extension": ".py",
   "mimetype": "text/x-python",
   "name": "python",
   "nbconvert_exporter": "python",
   "pygments_lexer": "ipython3",
   "version": "3.7.3"
  }
 },
 "nbformat": 4,
 "nbformat_minor": 2
}
